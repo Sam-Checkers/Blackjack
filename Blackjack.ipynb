{
 "cells": [
  {
   "cell_type": "code",
   "execution_count": 87,
   "id": "8d52bde8-57d3-4eab-8524-72fa2e06039c",
   "metadata": {},
   "outputs": [
    {
     "name": "stdin",
     "output_type": "stream",
     "text": [
      "Hold 'em/Fold 'em:  hold\n"
     ]
    },
    {
     "name": "stdout",
     "output_type": "stream",
     "text": [
      "Dealer Hand: ('10', '♦')\n",
      "Player Hand: [('6', '♣'), ('Q', '♣')]\n"
     ]
    },
    {
     "name": "stdin",
     "output_type": "stream",
     "text": [
      "Stand/Hit:  hit\n"
     ]
    },
    {
     "name": "stdout",
     "output_type": "stream",
     "text": [
      "Dealer Hand: ('10', '♦')\n",
      "Player Hand: [('6', '♣'), ('Q', '♣'), ('Q', '♦')]\n",
      "Player Bust!\n"
     ]
    },
    {
     "name": "stdin",
     "output_type": "stream",
     "text": [
      "Hold 'em/Fold 'em:  hold\n"
     ]
    },
    {
     "name": "stdout",
     "output_type": "stream",
     "text": [
      "Dealer Hand: ('6', '♥')\n",
      "Player Hand: [('6', '♣'), ('7', '♣')]\n"
     ]
    },
    {
     "name": "stdin",
     "output_type": "stream",
     "text": [
      "Stand/Hit:  hit\n"
     ]
    },
    {
     "name": "stdout",
     "output_type": "stream",
     "text": [
      "Dealer Hand: ('6', '♥')\n",
      "Player Hand: [('6', '♣'), ('7', '♣'), ('4', '♣')]\n"
     ]
    },
    {
     "name": "stdin",
     "output_type": "stream",
     "text": [
      "Stand/Hit:  stand\n"
     ]
    },
    {
     "name": "stdout",
     "output_type": "stream",
     "text": [
      "Dealer Hand: [('10', '♣'), ('6', '♥')]\n",
      "Player Hand: [('6', '♣'), ('7', '♣'), ('4', '♣')]\n",
      "You Win!\n"
     ]
    },
    {
     "name": "stdin",
     "output_type": "stream",
     "text": [
      "Hold 'em/Fold 'em:  fold\n"
     ]
    }
   ],
   "source": [
    "import random\n",
    "\n",
    "class Table:\n",
    "    def __init__(self):\n",
    "        self.deck = []\n",
    "        self.player_hand = []\n",
    "        self.computer_hand = []\n",
    "        self.ranks = {'A': 1, '2': 2, '3': 3, '4': 4, '5': 5, '6': 6, '7': 7, '8': 8, '9': 9, '10': 10, 'J': 10, 'Q': 10, 'K': 10}\n",
    "\n",
    "    def deal(self):\n",
    "        self.deck = [(rank, suit) for rank in self.ranks.keys() for suit in ['♥', '♦', '♣', '♠']]\n",
    "        random.shuffle(self.deck)\n",
    "        self.player_hand = [self.deck.pop(), self.deck.pop()]\n",
    "        self.computer_hand = [self.deck.pop(), self.deck.pop()]\n",
    "\n",
    "    def game(self):\n",
    "        print(f'Dealer Hand: {self.computer_hand[1]}')\n",
    "        print(f'Player Hand: {self.player_hand}')\n",
    "        if sum(self.ranks[card[0]] for card in self.player_hand) == 21:\n",
    "            print('Blackjack!')\n",
    "        else:\n",
    "            self.player_move()\n",
    "\n",
    "    def player_move(self):\n",
    "        while True:\n",
    "            player_move = input('Stand/Hit: ')\n",
    "            if player_move.lower() == 'stand':\n",
    "                self.computer_move()\n",
    "                break\n",
    "            elif player_move.lower() == 'hit':\n",
    "                player_card_index = random.randint(0, len(self.deck)-1)\n",
    "                player_card = self.deck.pop(player_card_index)\n",
    "                self.player_hand.append(player_card)\n",
    "                print(f'Dealer Hand: {self.computer_hand[1]}')\n",
    "                print(f'Player Hand: {self.player_hand}')\n",
    "                hand_value = sum(self.ranks[card[0]] for card in self.player_hand)\n",
    "                if hand_value <= 21:\n",
    "                    continue\n",
    "                else:\n",
    "                    print('Player Bust!')\n",
    "                    break\n",
    "                    \n",
    "    def computer_move(self):\n",
    "        while sum(self.ranks[card[0]] for card in self.computer_hand) < 16:\n",
    "            computer_card_index = random.randint(0, len(self.deck)-1)\n",
    "            computer_card = self.deck.pop(computer_card_index)\n",
    "            self.computer_hand.append(computer_card)\n",
    "            if sum(self.ranks[card[0]] for card in self.computer_hand) > 21:\n",
    "                print('Dealer Busts! You Win!')\n",
    "                break\n",
    "        else:\n",
    "            self.endgame()\n",
    "\n",
    "    def endgame(self):\n",
    "        print(f'Dealer Hand: {self.computer_hand}')\n",
    "        print(f'Player Hand: {self.player_hand}')\n",
    "        if 21 >= sum(self.ranks[card[0]] for card in self.computer_hand) > sum(self.ranks[card[0]] for card in self.player_hand):\n",
    "            print('House Wins!')\n",
    "        elif 21 >= sum(self.ranks[card[0]] for card in self.player_hand) > sum(self.ranks[card[0]] for card in self.computer_hand):\n",
    "            print('You Win!')\n",
    "        elif sum(self.ranks[card[0]] for card in self.player_hand) == sum(self.ranks[card[0]] for card in self.computer_hand):\n",
    "            print('Tie')\n",
    "\n",
    "\n",
    "table = Table()\n",
    "\n",
    "while True:\n",
    "    action = input(\"Hold 'em/Fold 'em: \")\n",
    "    if 'hold' in action.lower():\n",
    "        table.deal()\n",
    "        table.game()\n",
    "    elif 'fold' in action.lower():\n",
    "        break"
   ]
  },
  {
   "cell_type": "code",
   "execution_count": null,
   "id": "3a0efa84-b11b-4f61-8103-204fb05ab925",
   "metadata": {},
   "outputs": [],
   "source": []
  }
 ],
 "metadata": {
  "kernelspec": {
   "display_name": "anaconda-2022.05-py39",
   "language": "python",
   "name": "conda-env-anaconda-2022.05-py39-py"
  },
  "language_info": {
   "codemirror_mode": {
    "name": "ipython",
    "version": 3
   },
   "file_extension": ".py",
   "mimetype": "text/x-python",
   "name": "python",
   "nbconvert_exporter": "python",
   "pygments_lexer": "ipython3",
   "version": "3.9.12"
  }
 },
 "nbformat": 4,
 "nbformat_minor": 5
}
